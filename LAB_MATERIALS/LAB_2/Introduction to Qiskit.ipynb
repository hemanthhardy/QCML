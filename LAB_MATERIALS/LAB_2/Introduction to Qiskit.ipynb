{
 "cells": [
  {
   "cell_type": "markdown",
   "metadata": {
    "id": "BcmFeSF8qJRg"
   },
   "source": [
    "# **Intro to Quantum Circuits**\n",
    "***\n",
    "\n"
   ]
  },
  {
   "cell_type": "markdown",
   "metadata": {
    "id": "OvMRTYf_p-yk"
   },
   "source": [
    "This first lesson is designed to introduce you to Qiskit’s formalism for running quantum circuits, specifically creating quantum systems using QuantumCircuits. This lesson is recommended for first time users of Qiskit."
   ]
  },
  {
   "cell_type": "markdown",
   "metadata": {
    "id": "ocq1fbNpr-4z"
   },
   "source": [
    " If you do not have Qiskit ready for use on your computer, please check out the installation guide:"
   ]
  },
  {
   "cell_type": "markdown",
   "metadata": {
    "id": "OQHAoUsFqi7g"
   },
   "source": [
    "In order to make sure that all cells of code run properly throughout this lesson, please run the following cell of code below:"
   ]
  },
  {
   "cell_type": "code",
   "execution_count": null,
   "metadata": {
    "id": "prO3jIO-z6I2"
   },
   "outputs": [],
   "source": [
    "!pip install qiskit"
   ]
  },
  {
   "cell_type": "code",
   "execution_count": 1,
   "metadata": {
    "id": "gGmZNDLTqlIv"
   },
   "outputs": [],
   "source": [
    "from qiskit import QuantumRegister , ClassicalRegister, QuantumCircuit , Aer , execute\n",
    "import numpy as np\n",
    "import math as m\n",
    "S_simulator = Aer.backends(name='statevector_simulator')[0]\n",
    "M_simulator = Aer.backends(name='qasm_simulator')[0]"
   ]
  },
  {
   "cell_type": "markdown",
   "metadata": {
    "id": "U7QkQcOYtnzw"
   },
   "source": [
    "# **Creating Our First Quantum State**\n",
    "***"
   ]
  },
  {
   "cell_type": "markdown",
   "metadata": {
    "id": "FqNrmXi1-D2f"
   },
   "source": [
    "## **Qiskit**\n",
    "Qiskit is an open source quantum computing software library from IBM that was\n",
    "released in 2017. Qiskit stands for Quantum Information Science Kit and has four main\n",
    "components in its quantum computing stack, as listed here:\n",
    "1. Qiskit Terra: This provides all the essential components for\n",
    "building quantum circuits.\n",
    "2. Qiskit Aer: You can develop noise models for simulating realistic noisy simulations that can occur in real quantum computing devices using Aer tools. Aer also provides a C++\n",
    "simulator framework.\n",
    "3. Qiskit Ignis: This is a framework for analyzing and minimizing\n",
    "noise in quantum circuits.\n",
    "4. Qiskit Aqua: This contains cross-domain algorithms and logic to\n",
    "run these algorithms on a quantum real device or simulator."
   ]
  },
  {
   "cell_type": "markdown",
   "metadata": {
    "id": "y2Xf83ugtqdh"
   },
   "source": [
    "Qiskit allows us to create algorithms for a quantum computer. These algorithms tell the quantum\n",
    "computer what kinds of quantum systems to create, and then manipulate them with gates. Compared to classical algorithms, we\n",
    "will find that programming for a quantum computer is quite different, requiring us to face many new limitations posed on us by\n",
    "quantum systems. In turn however, these quantum algorithms allow us to solve problems much faster than any classical approach."
   ]
  },
  {
   "cell_type": "markdown",
   "metadata": {
    "id": "NPgM3aPdtzV7"
   },
   "source": [
    "Let’s start with the simplest quantum system there is:"
   ]
  },
  {
   "cell_type": "markdown",
   "metadata": {
    "id": "lEtYTU3pt1ot"
   },
   "source": [
    "\n",
    "  $|{\\psi}>$ =  $|0>$\n",
    "  "
   ]
  },
  {
   "cell_type": "markdown",
   "metadata": {
    "id": "NVEHqVDdyxok"
   },
   "source": [
    "This is a quantum system of 1 qubit, in the state |0>. Not terribly exciting, but we have to start somewhere! Consider this the\n",
    "”Hello World!” to programing with qubits."
   ]
  },
  {
   "cell_type": "markdown",
   "metadata": {
    "id": "BACJyAc4y3-F"
   },
   "source": [
    "Let’s see the code that generates this system, and then dissect its components:"
   ]
  },
  {
   "cell_type": "code",
   "execution_count": 2,
   "metadata": {
    "id": "UPjzG3P-qzAL"
   },
   "outputs": [
    {
     "name": "stdout",
     "output_type": "stream",
     "text": [
      "Statevector([1.+0.j, 0.+0.j],\n",
      "            dims=(2,))\n"
     ]
    }
   ],
   "source": [
    "from qiskit import QuantumRegister , ClassicalRegister , QuantumCircuit , Aer , execute\n",
    "\n",
    "qreg_q = QuantumRegister(1,'q')\n",
    "creg_c = ClassicalRegister(1,'c')\n",
    "\n",
    "hello_qubit = QuantumCircuit(qreg_q , creg_c)\n",
    "\n",
    "hello_qubit.id(qreg_q[0])\n",
    "\n",
    "job =   execute(hello_qubit, S_simulator)\n",
    "result =  job.result()\n",
    "result.get_statevector()\n"
   ]
  },
  {
   "cell_type": "markdown",
   "metadata": {
    "id": "15DoHF420BHR"
   },
   "source": [
    "Congrats, you’ve just created your first quantum system using Qiskit!"
   ]
  },
  {
   "cell_type": "markdown",
   "metadata": {
    "id": "kDLXy-k70gdZ"
   },
   "source": [
    "Okay, it’s not a very exciting result, but there are already a lot of things going on in this code. Starting with our imports:"
   ]
  },
  {
   "cell_type": "markdown",
   "metadata": {
    "id": "TSShArZY0kHK"
   },
   "source": [
    "***\n",
    "from qiskit import **QuantumRegister, QuantumCircuit, Aer, execute**\n",
    "***"
   ]
  },
  {
   "cell_type": "markdown",
   "metadata": {
    "id": "OoJooIke09qT"
   },
   "source": [
    "These imports are what allow us to create and see the quantum system we are working with."
   ]
  },
  {
   "cell_type": "markdown",
   "metadata": {
    "id": "s75H_gGf1YJA"
   },
   "source": [
    "**QuantumRegister** – this is a class that holds our qubits. When we go to perform gate operations on our system, we call on the\n",
    "QuantumRegister’s index locations, corresponding to the qubits we are interested in.  \n",
    "**QuantumCircuit** – this is a class that can be thought of as our ”instructions” for the quantum system. As we want to design\n",
    "larger and more complex algorithms, we will store operations into QuantumCircuits, which we can then call upon by\n",
    "simulators to run them later.    \n",
    "**Aer** – this is a class that handles using classical simulator backends. Since we will be doing all of our tutorials via classical\n",
    "simulations, we will be using this class regularly. The actual name for this class is AerProvider, but qiskit just lets us import\n",
    "and use it as Aer.   \n",
    "**execute** – this is a function that we must import in order to run our quantum algorithms. By itself, a QuantumCircuit is like a\n",
    "list that hold all our our quantum operations. Therefore, execute is what will allow us to run these instructions.   \n",
    "**S_simulator** - this is a variable that we have created for the purpose of storing our classical simulator. Essentially, we use the\n",
    "Aer class and call upon a specific backend: **’statevector_simulator’**. This backend is what will allow us to view the wavefunction\n",
    "of our quantum system, and is one of two backends that we will use frequently throughout these tutorials. This simulator returns the quantum state, which is a complex vector of dimensions $2^n$ , where n is the number of qubits \n"
   ]
  },
  {
   "cell_type": "markdown",
   "metadata": {
    "id": "AjdVdOSX4LV-"
   },
   "source": [
    "The goal of this lesson is to become familiar with some of the basics of building and running QuantumCircuits, so don’t worry\n",
    "if all of these new terms don’t make sense just yet."
   ]
  },
  {
   "cell_type": "markdown",
   "metadata": {
    "id": "ClkQEiEL4QMV"
   },
   "source": [
    "Now, let’s start with our first three lines of code:"
   ]
  },
  {
   "cell_type": "markdown",
   "metadata": {
    "id": "hmQuqfT14Mkm"
   },
   "source": [
    "***\n",
    "qreg_q = QuantumRegister(1,'q')   \n",
    "creg_c = ClassicalRegister(1,'c')  \n",
    "hello_qubit = QuantumCircuit(qreg_q , creg_c)  \n",
    "hello_qubit.id(qc[0])\n",
    "***"
   ]
  },
  {
   "cell_type": "markdown",
   "metadata": {
    "id": "eUxwl64a4tKz"
   },
   "source": [
    "The first line of code is creating a QuantumRegister of 1 qubit, and calling it ’qreg_q’. In the next line we create a ClassicalRegister of 1 bit and call it 'creg_c'. We then create a QuantumCircuit called ’hello_qubit’, using the quantum register and classical register we just created. And lastly, we apply the Identity operator to our single qubit,\n",
    "using the function id, and specifying that we want this Identity operation to be applied to qreg_q[0] (We will cover the Identity\n",
    "operator in more detail shortly). The indexing on the QuantumRegister works the same way as Python ordering, where the\n",
    "first entry is always 0."
   ]
  },
  {
   "cell_type": "markdown",
   "metadata": {
    "id": "_Vmvadj244Jl"
   },
   "source": [
    "These three lines of code are a good template for the basic flow of creating a quantum algorithm in Qiskit: \n",
    "1. define how many\n",
    "qubits you want \n",
    "2. store them in a QuantumRegister\n",
    "3. create a QuantumCircuit using all (or just some) of the qubits in your\n",
    "quantum register \n",
    "4. apply gate operations, measurements, etc."
   ]
  },
  {
   "cell_type": "markdown",
   "metadata": {
    "id": "PzWW3ncW5AtJ"
   },
   "source": [
    "By default, when we create a QuantumCircuit of N qubits, all of the qubits start off in the state $|0>$. But, they aren’t technically\n",
    "in our system until we apply at least one gate operation to them. Thus, in the example above, in order to create our state\n",
    "$|{\\psi>}$ = $|0>$, we must apply the Identity gate."
   ]
  },
  {
   "cell_type": "markdown",
   "metadata": {
    "id": "mDoAS4OY6JTZ"
   },
   "source": [
    "Now onto the remaining lines of code:"
   ]
  },
  {
   "cell_type": "markdown",
   "metadata": {
    "id": "oL-H2Bl86NXb"
   },
   "source": [
    "***\n",
    "job = execute(hello_qubit, S_simulator)  \n",
    "result = job.result()  \n",
    "result.get statevector()\n",
    "***"
   ]
  },
  {
   "cell_type": "markdown",
   "metadata": {
    "id": "0y-kuUS_6T1-"
   },
   "source": [
    "In Qiskit, we create QuantumCircuits, but by themselves they do not represent any physical quantum system. They are just a\n",
    "set of instructions, so we must tell Qiskit what we want to do with them, or more specifically, on what we want to run them.\n",
    "Our choices for how we can run our quantum circuits come in the form of ’backends’. In our example, we want to run our\n",
    "QuantumCircuit on a classical simulator which is Ideal (without any noise) quantum circuit simulator so that we can see its wavefunction."
   ]
  },
  {
   "cell_type": "markdown",
   "metadata": {
    "id": "zgAKKiN-6nPd"
   },
   "source": [
    "Let’s now focus solely on the backend that we will be working with: statevector simulator. The following cell of code\n",
    "showcases several features of this backend object:"
   ]
  },
  {
   "cell_type": "code",
   "execution_count": null,
   "metadata": {
    "id": "qgBkMLSu7r8F"
   },
   "outputs": [],
   "source": [
    "S_simulator = Aer.backends(name='statevector_simulator')[0]\n",
    "\n",
    "print('simulator: ' , S_simulator, '\\n')\n",
    "print('simulator type: ' , type(S_simulator) , '\\n')\n",
    "print('Aer.backend(name = statevector_simulator): ' , Aer.backends(name = 'statevector_simulator'))"
   ]
  },
  {
   "cell_type": "markdown",
   "metadata": {
    "id": "zkckxluU7nJH"
   },
   "source": [
    "To summarize what is going on here, the single line of code at the top is assigning the class **StatevectorSimulator** to our variable\n",
    "’S_simulator’. We do this with the function **backends**, which is part of Aer. This StatevectorSimulator class is what is going\n",
    "to allow us to see our wavefunction at the end of our code, simulating the quantum state classically via statevector_simulator.\n",
    "We get this class via the line:"
   ]
  },
  {
   "cell_type": "markdown",
   "metadata": {
    "id": "Ac6kHJji-GLA"
   },
   "source": [
    "***\n",
    "Aer.backends(name='statevector_simulator')[0]\n",
    "***"
   ]
  },
  {
   "cell_type": "markdown",
   "metadata": {
    "id": "HWuJIAfp-N-9"
   },
   "source": [
    "which returns a class object, as shown above. In essence, all we really need to know is that this first line of code is correctly\n",
    "grabbing the backend we want, and storing it in a variable which we can call upon at any time."
   ]
  },
  {
   "cell_type": "markdown",
   "metadata": {
    "id": "Iam3poce-TZ0"
   },
   "source": [
    "Our last three lines of code then do the rest of the work, converting our QuantumCircuit into a printable wavefunction for us\n",
    "to view. Understanding the full details of this process isn’t really necessary for our educational purposes here, but if you are\n",
    "interested, we encourage you to look at the source code. Essentially, the instructions of our QuantumCircuit go through two\n",
    "more classes before finally coming out as a printable wavefunction:"
   ]
  },
  {
   "cell_type": "markdown",
   "metadata": {
    "id": "QMYHKcW0ACu9"
   },
   "source": [
    "execute( QuantumCircuit, backend ) → job → result → display the results"
   ]
  },
  {
   "cell_type": "markdown",
   "metadata": {
    "id": "-xHZWWnxAVGt"
   },
   "source": [
    "where the job and results step in our code are the classes:"
   ]
  },
  {
   "cell_type": "code",
   "execution_count": 3,
   "metadata": {
    "id": "dd_jjiqYAcdu"
   },
   "outputs": [
    {
     "name": "stdout",
     "output_type": "stream",
     "text": [
      " job = AerJob class:  <class 'qiskit_aer.jobs.aerjob.AerJob'>\n",
      "result = Result class:  <class 'qiskit.result.result.Result'>\n"
     ]
    }
   ],
   "source": [
    "S_simulator = Aer.backends(name='statevector_simulator')[0]\n",
    "\n",
    "job =   execute(hello_qubit, S_simulator)\n",
    "print(' job = AerJob class: ' , type(job))\n",
    "\n",
    "result =  job.result()\n",
    "print('result = Result class: ' , type(result))"
   ]
  },
  {
   "cell_type": "markdown",
   "metadata": {
    "id": "O2ZqitrMA9hX"
   },
   "source": [
    "And **get_statevector** is a function defined in the **Result** class, which prints our wavefunction as an array:"
   ]
  },
  {
   "cell_type": "code",
   "execution_count": null,
   "metadata": {
    "id": "bi17t3ImBGS3"
   },
   "outputs": [],
   "source": [
    "result.get_statevector()"
   ]
  },
  {
   "cell_type": "markdown",
   "metadata": {
    "id": "eGDckKXEBKwp"
   },
   "source": [
    "If everything just now didn’t sink in, don’t worry. We’ve just gotten through all the technically stuff first, for those who might\n",
    "be so inclined as to rummage through Qiskit’s code for themselves. If you’re not so interested in how Qiskit works, and want to\n",
    "learn how to get Qiskit to work, don’t worry, there’s plenty of that left in this tutorial!"
   ]
  },
  {
   "cell_type": "markdown",
   "metadata": {
    "id": "UkxTcQqLBUdk"
   },
   "source": [
    "# **Let’s Bump Up the Qubits**\n",
    "***"
   ]
  },
  {
   "cell_type": "markdown",
   "metadata": {
    "id": "4lZXQG2ZBm0m"
   },
   "source": [
    "Returning now to creating quantum systems, so far we’ve seen how to create a 1-qubit system (pretty exciting !!!). Since\n",
    "we just spent quite a bit of time looking at all of the components in detail, let’s see it once again in its entirety:"
   ]
  },
  {
   "cell_type": "code",
   "execution_count": null,
   "metadata": {
    "id": "lerSXWT3CAOY"
   },
   "outputs": [],
   "source": [
    "from qiskit import QuantumRegister , ClassicalRegister , QuantumCircuit , Aer , execute\n",
    "\n",
    "qreg_q = QuantumRegister(1,'q')\n",
    "creg_c = ClassicalRegister(1,'c')\n",
    "\n",
    "hello_qubit = QuantumCircuit(qreg_q , creg_c)\n",
    "\n",
    "hello_qubit.id(qreg_q[0])\n",
    "\n",
    "job =   execute(hello_qubit, S_simulator)\n",
    "result =  job.result()\n",
    "result.get_statevector()"
   ]
  },
  {
   "cell_type": "markdown",
   "metadata": {
    "id": "fuCT3tkSCBFw"
   },
   "source": [
    "In this first example, we created a system of a single qubit in the state $|0>$. This was done by simply creating a QuantumRegister\n",
    "object of 1 qubit, and using it to create a QuantumCircuit using the Identity operator."
   ]
  },
  {
   "cell_type": "markdown",
   "metadata": {
    "id": "TDVZ2TbiCHWq"
   },
   "source": [
    "Let’s create another simple state, $|ψ>$ = $|000>$ , which contains three qubits all in the $|0>$ state:"
   ]
  },
  {
   "cell_type": "code",
   "execution_count": 5,
   "metadata": {
    "id": "xcgH6AaACSo3"
   },
   "outputs": [
    {
     "name": "stdout",
     "output_type": "stream",
     "text": [
      "     \n",
      "q_0: \n",
      "     \n",
      "q_1: \n",
      "     \n",
      "q_2: \n",
      "     \n",
      "c: 3/\n",
      "     \n",
      "Statevector([1.+0.j, 0.+0.j, 0.+0.j, 0.+0.j, 0.+0.j, 0.+0.j, 0.+0.j,\n",
      "             0.+0.j],\n",
      "            dims=(2, 2, 2))\n"
     ]
    }
   ],
   "source": [
    "qreg_q = QuantumRegister(3,'q')\n",
    "creg_c = ClassicalRegister(3,'c')\n",
    "\n",
    "three_qubits = QuantumCircuit(qreg_q , creg_c)\n",
    "three_qubits.id(qreg_q[0])\n",
    "three_qubits.id(qreg_q[1])\n",
    "three_qubits.id(qreg_q[2])\n",
    "\n",
    "job = execute(three_qubits , S_simulator)\n",
    "\n",
    "result = job.result()\n",
    "\n",
    "result.get_statevector()"
   ]
  },
  {
   "cell_type": "markdown",
   "metadata": {
    "id": "NYTRvn8GDO1I"
   },
   "source": [
    "Note that in both these examples we are able to use our S_simulator, since we’ve already defined it earlier."
   ]
  },
  {
   "cell_type": "markdown",
   "metadata": {
    "id": "lTXgrMf2DTbk"
   },
   "source": [
    "Now, in this example we create a QuantumCircuit of three qubits. Then, since we want each qubit to be in the $|0>$\n",
    "state, we apply the Identity gate to each one. Using this QuantumCircuit, we create a **job** via execute, create a **result** from\n",
    "that job, and then display the results via our get_statevector function. The result is our wavefunction, printed as a length-8 array."
   ]
  },
  {
   "cell_type": "markdown",
   "metadata": {
    "id": "bX9RMn_FrRjy"
   },
   "source": [
    "Note: statevector_simulator returns the quantum state, which is a complex vector of dimensions $2^n$ , where n is the number of qubits "
   ]
  },
  {
   "cell_type": "markdown",
   "metadata": {
    "id": "TcV8IVavENYX"
   },
   "source": [
    "Although there are no labels telling us which states are which in our wavefunction array, we can deduce that the first entry must\n",
    "be the state $|000>$, since it has an amplitude of 1. However, it’s not immediately clear as to which entries represent the remaining\n",
    "states. For clarity, the order in which the states are represented above are as follows:"
   ]
  },
  {
   "cell_type": "markdown",
   "metadata": {
    "id": "8ayU-woEFbXS"
   },
   "source": [
    "[ $|000>$ , $|100>$ , $|010>$ , $|110>$ , $|001>$ , $|101>$ , $|011>$ , $|111>$ ]"
   ]
  },
  {
   "cell_type": "markdown",
   "metadata": {
    "id": "NCH5p4KBF227"
   },
   "source": [
    "where the order of this qubits is from left to right. Thus, the state $|100>$, where qubit 0 is in the $|1>$ state, can be created as follows:"
   ]
  },
  {
   "cell_type": "code",
   "execution_count": null,
   "metadata": {
    "id": "1T9ndCXDEua-"
   },
   "outputs": [],
   "source": [
    "qreg_q = QuantumRegister(3,'q')\n",
    "creg_c = ClassicalRegister(3,'c')\n",
    "\n",
    "three_qubits = QuantumCircuit(qreg_q , creg_c)\n",
    "\n",
    "three_qubits.x(qreg_q[0])\n",
    "\n",
    "three_qubits.id(qreg_q[1])\n",
    "three_qubits.id(qreg_q[2])\n",
    "\n",
    "job = execute(three_qubits , S_simulator)\n",
    "\n",
    "result = job.result()\n",
    "\n",
    "result.get_statevector()"
   ]
  },
  {
   "cell_type": "markdown",
   "metadata": {
    "id": "yMBmamLbGm-L"
   },
   "source": [
    "Note, the X gate used here flips a qubit’s state between 0 and 1 (which we will cover later). The array above\n",
    "confirms that the state $|100>$ is indeed located at the index location 1."
   ]
  }
 ],
 "metadata": {
  "colab": {
   "collapsed_sections": [],
   "name": "Intro_to_Quantum_Circuits.ipynb",
   "provenance": [],
   "toc_visible": true
  },
  "kernelspec": {
   "display_name": "Python 3",
   "language": "python",
   "name": "python3"
  },
  "language_info": {
   "codemirror_mode": {
    "name": "ipython",
    "version": 3
   },
   "file_extension": ".py",
   "mimetype": "text/x-python",
   "name": "python",
   "nbconvert_exporter": "python",
   "pygments_lexer": "ipython3",
   "version": "3.7.3"
  }
 },
 "nbformat": 4,
 "nbformat_minor": 1
}
