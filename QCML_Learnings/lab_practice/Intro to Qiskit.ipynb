{
 "cells": [
  {
   "cell_type": "code",
   "execution_count": 1,
   "metadata": {},
   "outputs": [],
   "source": [
    "from qiskit import QuantumRegister, ClassicalRegister, QuantumCircuit, Aer, execute\n",
    "import numpy as np\n",
    "import math as m"
   ]
  },
  {
   "cell_type": "code",
   "execution_count": 30,
   "metadata": {},
   "outputs": [
    {
     "name": "stdout",
     "output_type": "stream",
     "text": [
      "statevector_simulator qasm_simulator\n"
     ]
    }
   ],
   "source": [
    "s_simulator = Aer.backends(name='statevector_simulator')[0]\n",
    "m_simulator = Aer.backends(name='qasm_simulator')[0]\n",
    "print(s_simulator, m_simulator)"
   ]
  },
  {
   "cell_type": "code",
   "execution_count": 44,
   "metadata": {},
   "outputs": [
    {
     "name": "stdout",
     "output_type": "stream",
     "text": [
      "QuantumRegister(1, 'q1') ClassicalRegister(1, 'c1')\n",
      "--------Circuit----------       \n",
      "  q1: \n",
      "      \n",
      "c1: 1/\n",
      "       \n",
      "######################\n",
      "--------Circuit----------       ┌───┐\n",
      "  q1: ┤ I ├\n",
      "      └───┘\n",
      "c1: 1/═════\n",
      "            \n",
      "######################\n",
      "Statevector([1.+0.j, 0.+0.j],\n",
      "            dims=(2,))\n"
     ]
    }
   ],
   "source": [
    "#single quibit system\n",
    "qreg_q1 = QuantumRegister(1,'q1')\n",
    "creg_c1 = ClassicalRegister(1,'c1')\n",
    "print(qreg_q1,creg_c1)\n",
    "\n",
    "hello_qubit = QuantumCircuit(qreg_q1,creg_c1)\n",
    "print('--------Circuit----------',hello_qubit,'\\n######################')\n",
    "\n",
    "#identity operation on q0\n",
    "hello_qubit.id(qreg_q1[0])\n",
    "print('--------Circuit----------',hello_qubit,'\\n######################')\n",
    "\n",
    "job = execute(hello_qubit, s_simulator)\n",
    "result = job.result()\n",
    "#print('\\n\\n',result,'\\n\\n')\n",
    "result.get_statevector()"
   ]
  },
  {
   "cell_type": "code",
   "execution_count": 55,
   "metadata": {},
   "outputs": [
    {
     "name": "stdout",
     "output_type": "stream",
     "text": [
      "--------Circuit----------      ┌───┐\n",
      "q_0: ┤ X ├\n",
      "     ├───┤\n",
      "q_1: ┤ X ├\n",
      "     ├───┤\n",
      "q_2: ┤ I ├\n",
      "     └───┘\n",
      "c: 3/═════\n",
      "           \n",
      "########################\n",
      "Statevector([0.+0.j, 0.+0.j, 0.+0.j, 1.+0.j, 0.+0.j, 0.+0.j, 0.+0.j,\n",
      "             0.+0.j],\n",
      "            dims=(2, 2, 2))\n"
     ]
    }
   ],
   "source": [
    "qreg_q = QuantumRegister(3,'q')\n",
    "creg_c = ClassicalRegister(3,'c')\n",
    "\n",
    "three_qubits = QuantumCircuit(qreg_q,creg_c)\n",
    "three_qubits.x(qreg_q[0])\n",
    "three_qubits.x(qreg_q[1])\n",
    "three_qubits.id(qreg_q[2])\n",
    "print('--------Circuit----------',three_qubits,'\\n########################')\n",
    "\n",
    "job = execute(three_qubits,s_simulator)\n",
    "job.result().get_statevector()"
   ]
  },
  {
   "cell_type": "markdown",
   "metadata": {},
   "source": [
    " As per our writing : qubit significance from right to Left, but,\n",
    " \n",
    " As per Qiskit:\n",
    " [ $|000>$ , $|100>$ , $|010>$ , $|110>$ , $|001>$ , $|101>$ , $|011>$ , $|111>$ ]\n",
    "  where the order of this qubits is from left to right. Thus, the state |100>\n",
    ", where qubit 0 is in the |1>\n",
    " state, can be created as follows:"
   ]
  },
  {
   "cell_type": "code",
   "execution_count": null,
   "metadata": {},
   "outputs": [],
   "source": []
  }
 ],
 "metadata": {
  "kernelspec": {
   "display_name": "Python 3",
   "language": "python",
   "name": "python3"
  },
  "language_info": {
   "codemirror_mode": {
    "name": "ipython",
    "version": 3
   },
   "file_extension": ".py",
   "mimetype": "text/x-python",
   "name": "python",
   "nbconvert_exporter": "python",
   "pygments_lexer": "ipython3",
   "version": "3.7.3"
  }
 },
 "nbformat": 4,
 "nbformat_minor": 5
}
